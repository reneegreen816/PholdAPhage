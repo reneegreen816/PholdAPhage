{
  "nbformat": 4,
  "nbformat_minor": 0,
  "metadata": {
    "colab": {
      "provenance": [],
      "include_colab_link": true
    },
    "kernelspec": {
      "name": "python3",
      "display_name": "Python 3"
    },
    "language_info": {
      "name": "python"
    }
  },
  "cells": [
    {
      "cell_type": "markdown",
      "metadata": {
        "id": "view-in-github",
        "colab_type": "text"
      },
      "source": [
        "<a href=\"https://colab.research.google.com/github/reneegreen816/PholdAPhage/blob/main/PholdAPhage_CapsiCodeCracker.ipynb\" target=\"_parent\"><img src=\"https://colab.research.google.com/assets/colab-badge.svg\" alt=\"Open In Colab\"/></a>"
      ]
    },
    {
      "cell_type": "markdown",
      "source": [
        "<h1>PholdAPhage - CapsiCode Cracker</h1>\n",
        "\n",
        "**Your genome to T-number and ( *h, k* ) code cracker**\n",
        "\n",
        "Phage capsid structures are highly conserved, 96% are icosahedral in nature applying mathematical principles of symmetry to shape their protein capsids proportional to genome length.\n",
        "\n",
        "PholdAPhage - CapsiCode Cracker, is the first step of the PholdAPhage predictive modelling system, which can help decode this evolutionary design principle by symmetry type and genome length.\n",
        "\n",
        "PholdAPhage - CapsiCode Cracker, helps predict an unknown phages triangulation number (T-number or T#), and symmetry ( *h, k* ) paramters in support of computational simulation as part of PholdAPhage step 2.\n",
        "\n",
        "<h3>Notes:</h3>\n",
        "\n",
        " - To run cells, press the play button on the left side.\n",
        "\n",
        " - Steps are best run sequentially, with T# required to find ( *h, k* ) parameters, and protein copy #.\n",
        "\n",
        " - If your genome length is matched to multiple T#'s, PholdAPhage - CapsiCode Cracker will calculate all numbers and paramters for each T# in aid of all required predictive comutational simulations.<br><br>"
      ],
      "metadata": {
        "id": "vVEOuA1eB82b"
      }
    },
    {
      "cell_type": "markdown",
      "source": [
        "<h2>Instructions</h2>"
      ],
      "metadata": {
        "id": "9WposQWxTfIp"
      }
    },
    {
      "cell_type": "markdown",
      "source": [
        "<h2>1. Set up and installs</h2>\n",
        "Cells 1 and 2 install required python scripts and libraries to support analysis and calculation. It also mounts the notebook in your GoogleDrive for single use before being removed."
      ],
      "metadata": {
        "id": "7jSHh_mtRS53"
      }
    },
    {
      "cell_type": "code",
      "source": [
        "#Installs\n",
        "!pip install biopython"
      ],
      "metadata": {
        "id": "qJhn4qTmvD3I"
      },
      "execution_count": null,
      "outputs": []
    },
    {
      "cell_type": "code",
      "source": [
        "#Imports\n",
        "from Bio import SeqIO\n",
        "from google.colab import drive\n",
        "from google.colab import files\n",
        "import pandas as pd"
      ],
      "metadata": {
        "id": "j4KKtj5AvLcy"
      },
      "execution_count": null,
      "outputs": []
    },
    {
      "cell_type": "markdown",
      "source": [
        "<h2>2. Upload genome fasta (.fna) file</h2>\n",
        "Cell 3 imports the phage genome .fna sequence, which can be found in the content folder to the left.\n",
        "\n",
        "To run, click the play button and then choose your file for upload."
      ],
      "metadata": {
        "id": "-9_-OL9fRfrz"
      }
    },
    {
      "cell_type": "code",
      "source": [
        "#Open file picker to upload your genome file (use .fna file)\n",
        "uploaded = files.upload()"
      ],
      "metadata": {
        "id": "xXtkXocGPSNl"
      },
      "execution_count": null,
      "outputs": []
    },
    {
      "cell_type": "markdown",
      "source": [
        "<h2>3. Read and calculate genome length in bps</h2>\n",
        "Cell 4 reads the document and calculates genome length in base pairs (bps)."
      ],
      "metadata": {
        "id": "o8eTvGmHRvqh"
      }
    },
    {
      "cell_type": "code",
      "source": [
        "#Automatically get the uploaded filename\n",
        "#If multiple files are uploaded, this picks the first one\n",
        "file_name = list(uploaded.keys())[0]\n",
        "\n",
        "print(f\"Using uploaded file: {file_name}\")\n",
        "\n",
        "#Read the sequence\n",
        "record = SeqIO.read(file_name, \"fasta\")  # use \"fasta\" format for .fna files\n",
        "\n",
        "#Get the sequence\n",
        "sequence = record.seq\n",
        "\n",
        "#Calculate genome length\n",
        "genome_length = len(sequence)\n",
        "\n",
        "#Print the result\n",
        "print(f\"Genome length: {genome_length} bps\")"
      ],
      "metadata": {
        "id": "aTQzDbmvivbB"
      },
      "execution_count": null,
      "outputs": []
    },
    {
      "cell_type": "markdown",
      "source": [
        "<h2>4. Calculate T# from genome length</h2>\n",
        "Cell 5 takes genome length and determines your T#/s."
      ],
      "metadata": {
        "id": "sJGQS3F8R8Vx"
      }
    },
    {
      "cell_type": "code",
      "source": [
        "#Example: genome_length already calculated\n",
        "#genome_length = len(sequence)\n",
        "\n",
        "#Define T-number based on predicted ranges\n",
        "#Format: T_number: (min_length, max_length bps)\n",
        "T_ranges = {\n",
        "    1: (1240, 4412),\n",
        "    3: (8112, 17095),\n",
        "    4: (13207, 24480),\n",
        "    7: (33507, 50072),\n",
        "    9: (50052, 70221),\n",
        "    12: (77248, 106077),\n",
        "    13: (86659, 119668),\n",
        "    16: (115527, 165366),\n",
        "    19: (145222, 218122),\n",
        "    21: (165464, 256993),\n",
        "    25: (206993, 343138),\n",
        "    27: (228263, 390244),\n",
        "    28: (239019, 414775),\n",
        "    # Add or modify ranges as needed\n",
        "}\n",
        "\n",
        "#Determine all matching T-numbers\n",
        "matching_T_numbers = []\n",
        "\n",
        "for T, (min_len, max_len) in T_ranges.items():\n",
        "    if min_len <= genome_length <= max_len:\n",
        "        matching_T_numbers.append(T)\n",
        "\n",
        "#Print result\n",
        "if matching_T_numbers:\n",
        "    print(f\"Genome length: {genome_length} bp → Matching T-number(s): {matching_T_numbers}\")\n",
        "else:\n",
        "    print(f\"Genome length: {genome_length} bp → No matching T-number range found\")"
      ],
      "metadata": {
        "id": "Y89c7KukYlgZ"
      },
      "execution_count": null,
      "outputs": []
    },
    {
      "cell_type": "markdown",
      "source": [
        "<h2>5. Calculate ( h, k) parameterrs from T#</h2>\n",
        "Cell 6 then takes your T# and calculates your (h,k) parameters.\n",
        "\n",
        "Note: If there is no T# found for your genome length, consider:\n",
        "* non full integer T# options outlined in supplementary data for different lattice types\n",
        "* capsid sizes closest to your genome size.  "
      ],
      "metadata": {
        "id": "9ORsbXlQSE5T"
      }
    },
    {
      "cell_type": "code",
      "source": [
        "# Example: matching_T_numbers is a list of T-numbers\n",
        "# matching_T_numbers = [1, 2]  # from previous script\n",
        "\n",
        "def find_hk(T):\n",
        "    \"\"\"Find all integer (h, k) pairs such that T = h^2 + h*k + k^2\"\"\"\n",
        "    pairs = []\n",
        "    for h in range(T + 1):\n",
        "        for k in range(T + 1):\n",
        "            if h**2 + h*k + k**2 == T:\n",
        "                pairs.append((h, k))\n",
        "    return pairs\n",
        "\n",
        "# Dictionary to store results\n",
        "hk_results = {}\n",
        "\n",
        "# Check if there are any T-numbers to process\n",
        "if not matching_T_numbers:\n",
        "    print(\"No matching T-numbers to check for (h, k) pairs.\")\n",
        "else:\n",
        "    # Compute (h, k) pairs for each T-number\n",
        "    for T in matching_T_numbers:\n",
        "        hk_results[T] = find_hk(T)\n",
        "\n",
        "    # Print results\n",
        "    for T, pairs in hk_results.items():\n",
        "        if pairs:\n",
        "            print(f\"T={T} → possible (h, k) pairs: {pairs}\")\n",
        "        else:\n",
        "            print(f\"T={T} → no integer (h, k) pairs found\")"
      ],
      "metadata": {
        "id": "2uWNQPUwcYrV"
      },
      "execution_count": null,
      "outputs": []
    },
    {
      "cell_type": "markdown",
      "source": [
        "<h2>6. Calculate phage capsid Protein Copy #</h2>\n",
        "Cell 7 takes your T# to calculate your protein copy number."
      ],
      "metadata": {
        "id": "3PR5xSUVSOOq"
      }
    },
    {
      "cell_type": "code",
      "source": [
        "# Example: matching_T_numbers from previous steps\n",
        "# matching_T_numbers = [1, 3]\n",
        "\n",
        "protein_copies = {}\n",
        "\n",
        "# Check if there are any T-numbers to process\n",
        "if not matching_T_numbers:\n",
        "    print(\"No matching T-numbers to calculate protein copy numbers.\")\n",
        "else:\n",
        "    # Compute protein copy numbers\n",
        "    for T in matching_T_numbers:\n",
        "        protein_copies[T] = 60 * T\n",
        "\n",
        "    # Print results\n",
        "    for T, copies in protein_copies.items():\n",
        "        print(f\"T={T} → Protein copy number: {copies}\")"
      ],
      "metadata": {
        "id": "RHvS3ROZdKVk"
      },
      "execution_count": null,
      "outputs": []
    },
    {
      "cell_type": "markdown",
      "source": [
        "<h2>7. Print summary</h2>\n",
        "Cell 8 gives outcome summary of your file name, T#, (h,k) parameters, and protein copy #."
      ],
      "metadata": {
        "id": "eW0kb_VcpkmY"
      }
    },
    {
      "cell_type": "code",
      "source": [
        "#Print concise summary\n",
        "print(\"===== Genome Analysis Summary =====\")\n",
        "print(f\"File analysed: {file_name}\")\n",
        "print(f\"Genome length: {genome_length} bps\\n\")\n",
        "\n",
        "if matching_T_numbers:\n",
        "    for T in matching_T_numbers:\n",
        "        print(f\"T-number: {T}\")\n",
        "        print(f\"  - (h, k) pairs: {find_hk(T)}\")\n",
        "        print(f\"  - Protein copy number: {protein_copies[T]}\\n\")\n",
        "else:\n",
        "    print(\"No matching T-number ranges found for this genome length.\")"
      ],
      "metadata": {
        "id": "FBLf_Tm_o7rt"
      },
      "execution_count": null,
      "outputs": []
    },
    {
      "cell_type": "markdown",
      "source": [
        "<h2>8. Next step - return to GitHub to simulate your phage</h2>\n",
        "Take your T# and h,k paramters back to PholdAPhage GitHub page and complete step 2."
      ],
      "metadata": {
        "id": "ZsjsVdwrLBj1"
      }
    }
  ]
}